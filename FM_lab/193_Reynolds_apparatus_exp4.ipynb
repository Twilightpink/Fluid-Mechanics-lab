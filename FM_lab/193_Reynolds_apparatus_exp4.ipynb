{
 "cells": [
  {
   "cell_type": "markdown",
   "metadata": {},
   "source": [
    "### <center>  Exp4 OSBORNE  REYNOLDS’ APPARATUS"
   ]
  },
  {
   "cell_type": "markdown",
   "metadata": {},
   "source": [
    "### **Aim:**\n",
    "\n",
    "1. To reproduce the classic experiments conducted by Professor Osborne Reynolds concerning fluid flow condition.\n",
    "2. Observing the Laminar, Transitional, Turbulent flow and velocity profile.\n",
    "3. To compute Critical Reynolds’ Numbers.\n"
   ]
  },
  {
   "cell_type": "markdown",
   "metadata": {},
   "source": [
    "### Theory:\n",
    "The Osborne Reynolds’ Apparatus is designed for the vertical flow of a liquid through a precision bore glass tubes. The use of a vertical direction for the flow compensates for the flow effect of dye relative to that of the working fluid.\n",
    "The operating fluid may be supplied from any small-bore supply point by means of the flexible hose provided. Fluid enters a cylindrical constant head tank through a stilling bed to eliminate any gross variations to the fluid velocity in the head tank.\n",
    "This tank therefore provides uniform, low velocity head conditions upstream of the entry to the vertically mounted pipe test section. \n",
    "The cylindrical pipe test section is mounted inside a fabricated shroud that provides an uninterrupted white background for observations of the dye trace behavior. Dye solution is admitted to the test section through a fine diameter tube and a valve on the outlet of the dye reservoir controls the rate of flow of dye. The dye injection system can be readily removed for cleaning and maintenance.\n",
    "A needle point globe valve located in the base of the apparatus regulates the flow rate of working fluid through the test section. The rate may be measured volumetrically. \n",
    "The whole apparatus is mounted on a substantial fabricated steel support to ensure the test section is vertical. The stilling bed, all necessary connecting hoses, and an initial supply of dye are supplied with the apparatus."
   ]
  },
  {
   "cell_type": "markdown",
   "metadata": {},
   "source": [
    "### Observations and Calculations :"
   ]
  },
  {
   "cell_type": "code",
   "execution_count": 40,
   "metadata": {},
   "outputs": [],
   "source": [
    "import numpy as np\n",
    "import pandas as pd\n",
    "import matplotlib.pyplot as plt"
   ]
  },
  {
   "cell_type": "code",
   "execution_count": 41,
   "metadata": {},
   "outputs": [],
   "source": [
    "mu = 1.003e-3        #Viscosity of water (in cp) at 20 degree celsius\n",
    "rho = 998.2       #Density of water (kg/m3) at 20 degree celcius\n",
    "D = 0.014          #diameter (m) of the test pipe\n",
    "A = np.pi*(D**2)/4"
   ]
  },
  {
   "cell_type": "code",
   "execution_count": 42,
   "metadata": {},
   "outputs": [],
   "source": [
    "nat = np.array(['Cont','Cont','Cont','Cont','Brok','Brok','Brok','Brok','Brok','Brok','Brok','Brok','Brok',\n",
    "                'Brok','Brok']) #Nature of colorband\n",
    "V = np.array([62,98,136,206,300,380,550,750,850,1000,1200,1400,1575,1650,1650])*1e-6 #Volume of water (ml) collected\n",
    "\n",
    "t = np.array([20,20,20,20,20,20,20,20,20,20,20,20,20,20,20]) #Time\n"
   ]
  },
  {
   "cell_type": "code",
   "execution_count": 43,
   "metadata": {},
   "outputs": [
    {
     "name": "stdout",
     "output_type": "stream",
     "text": [
      "   Nature of color band (CONT/BROK)  Volume (m3)  Time (sec)\n",
      "0                              Cont     0.000062          20\n",
      "1                              Cont     0.000098          20\n",
      "2                              Cont     0.000136          20\n",
      "3                              Cont     0.000206          20\n",
      "4                              Brok     0.000300          20\n",
      "5                              Brok     0.000380          20\n",
      "6                              Brok     0.000550          20\n",
      "7                              Brok     0.000750          20\n",
      "8                              Brok     0.000850          20\n",
      "9                              Brok     0.001000          20\n",
      "10                             Brok     0.001200          20\n",
      "11                             Brok     0.001400          20\n",
      "12                             Brok     0.001575          20\n",
      "13                             Brok     0.001650          20\n",
      "14                             Brok     0.001650          20\n"
     ]
    }
   ],
   "source": [
    "obs = pd.DataFrame({'Nature of color band (CONT/BROK)':nat,'Volume (m3)':V,'Time (sec)':t})\n",
    "print (obs)"
   ]
  },
  {
   "cell_type": "code",
   "execution_count": 44,
   "metadata": {},
   "outputs": [],
   "source": [
    "Q = V/t       #Volumetric flow rate (m3/s)\n",
    "v = Q/A            #Velocity (m/s)\n",
    "Nre = D*v*rho/mu"
   ]
  },
  {
   "cell_type": "code",
   "execution_count": 45,
   "metadata": {},
   "outputs": [
    {
     "name": "stdout",
     "output_type": "stream",
     "text": [
      "   Nature     V(m3)  Time(s)  Flow rate (m3/s)  Velocity, v (m/s)  \\\n",
      "0    Cont  0.000062       20          0.000003           0.020138   \n",
      "1    Cont  0.000098       20          0.000005           0.031831   \n",
      "2    Cont  0.000136       20          0.000007           0.044174   \n",
      "3    Cont  0.000206       20          0.000010           0.066910   \n",
      "4    Brok  0.000300       20          0.000015           0.097442   \n",
      "5    Brok  0.000380       20          0.000019           0.123426   \n",
      "6    Brok  0.000550       20          0.000027           0.178643   \n",
      "7    Brok  0.000750       20          0.000038           0.243605   \n",
      "8    Brok  0.000850       20          0.000042           0.276085   \n",
      "9    Brok  0.001000       20          0.000050           0.324806   \n",
      "10   Brok  0.001200       20          0.000060           0.389767   \n",
      "11   Brok  0.001400       20          0.000070           0.454728   \n",
      "12   Brok  0.001575       20          0.000079           0.511569   \n",
      "13   Brok  0.001650       20          0.000082           0.535930   \n",
      "14   Brok  0.001650       20          0.000082           0.535930   \n",
      "\n",
      "    Reynolds number  \n",
      "0        280.582389  \n",
      "1        443.501196  \n",
      "2        615.471048  \n",
      "3        932.257616  \n",
      "4       1357.656723  \n",
      "5       1719.698516  \n",
      "6       2489.037325  \n",
      "7       3394.141807  \n",
      "8       3846.694048  \n",
      "9       4525.522410  \n",
      "10      5430.626892  \n",
      "11      6335.731374  \n",
      "12      7127.697795  \n",
      "13      7467.111976  \n",
      "14      7467.111976  \n"
     ]
    }
   ],
   "source": [
    "calc = pd.DataFrame({'Nature':nat,'V(m3)':V,'Time(s)':t,'Flow rate (m3/s)':Q,\n",
    "                     'Velocity, v (m/s)':v,'Reynolds number':Nre})\n",
    "print (calc)"
   ]
  },
  {
   "cell_type": "code",
   "execution_count": 49,
   "metadata": {},
   "outputs": [
    {
     "data": {
      "image/png": "[encoded data removed]",
      "text/plain": [
       "<Figure size 432x288 with 1 Axes>"
      ]
     },
     "metadata": {
      "needs_background": "light"
     },
     "output_type": "display_data"
    }
   ],
   "source": [
    "plt.figure()\n",
    "plt.plot(Nre)\n",
    "plt.xlabel('Observations')\n",
    "plt.ylabel('Reynolds number')\n",
    "plt.xticks(range(len(nat)), nat, rotation=45)\n",
    "plt.grid()"
   ]
  },
  {
   "cell_type": "markdown",
   "metadata": {},
   "source": [
    "### Inferences:"
   ]
  },
  {
   "cell_type": "markdown",
   "metadata": {},
   "source": [
    "1. When the velocity of a fluid moving in a conduit is gradually increased, the Reynolds Number (NRe) increases and at a particular value of  NRe, the flow changes from laminar to turbulent, this value of NRe is called lower critical Reynolds Number. Similarly when the velocity of a fluid flowing at a high velocity in a conduit is gradually decreased, NRe decreases and at a particular value of NRe, the flow changes from turbulent to laminar, this value of NRe is called the upper critical Reynolds Number. From the experiment the lower and upper limits are 2489 and 3846 resp.\n",
    "\n",
    "2. The profile has been plotted and it can be concluded that the Reynolds number streadily increases and the broken pattern becomes more invisible due to turbulent mixing"
   ]
  },
  {
   "cell_type": "markdown",
   "metadata": {},
   "source": [
    "### Industrial Applications:\n",
    "\n",
    "1. Reynolds number plays an important part in the calculation of the friction factor in a few of the equations of fluid mechanics, including the Darcy-Weisbach equation.\n",
    "\n",
    "2. It is used when modeling the movement of organisms swimming through water.\n",
    "\n",
    "3. Atmospheric air is considered to be a fluid. Hence, the Reynolds number can be calculated for it. This makes it possible to apply it in wind tunnel testing to study the aerodynamic properties of various surfaces.\n",
    "\n",
    "4. It plays an important part in the testing of wind lift on aircraft, especially in cases of supersonic flights where the high speed causes a localized increase in the density of air surrounding the aircraft."
   ]
  },
  {
   "cell_type": "code",
   "execution_count": null,
   "metadata": {},
   "outputs": [],
   "source": []
  }
 ],
 "metadata": {
  "kernelspec": {
   "display_name": "Python 3",
   "language": "python",
   "name": "python3"
  },
  "language_info": {
   "codemirror_mode": {
    "name": "ipython",
    "version": 3
   },
   "file_extension": ".py",
   "mimetype": "text/x-python",
   "name": "python",
   "nbconvert_exporter": "python",
   "pygments_lexer": "ipython3",
   "version": "3.8.3"
  }
 },
 "nbformat": 4,
 "nbformat_minor": 4
}
