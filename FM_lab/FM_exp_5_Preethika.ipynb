{
 "cells": [
  {
   "cell_type": "markdown",
   "metadata": {},
   "source": [
    "### <center> Exp 5 FLOW MEASUREMENT (VENTURIMETER, ORIFICEMETER & ROTAMETER)"
   ]
  },
  {
   "cell_type": "markdown",
   "metadata": {},
   "source": [
    "### **Objective**:\n",
    "* To measure discharge through Venturimeter, Orificemeter and Rotameter."
   ]
  },
  {
   "cell_type": "markdown",
   "metadata": {},
   "source": [
    "### **Aim**:\n",
    "* To determine the co-efficient of discharge through Venturimeter &amp; Orificemeter.\n",
    "* To calibrate the Rotameter."
   ]
  },
  {
   "cell_type": "markdown",
   "metadata": {},
   "source": [
    "### **Introduction**:\n",
    "If a constriction is placed in a closed channel carrying a stream of fluid, there will be\n",
    "increase in velocity, and hence increase in Kinetic Energy, at the constriction, from an energy\n",
    "balance, as given by Bernoulli’s Theorem, there must be a corresponding reduction in pressure.\n",
    "Rate of discharge from the constriction can be calculated by knowing this pressure reduction, the\n",
    "area available for flow at the constriction, the density of fluid, and the Co-efficient of discharge.\n",
    "The last named is defined as the ratio of actual flow to the theoretical flow and makes allowance\n",
    "for stream contraction and frictional effects."
   ]
  },
  {
   "cell_type": "markdown",
   "metadata": {},
   "source": [
    "### **Theory**:\n",
    "\n",
    "**VENTURIMETER**: It consists of:\n",
    "1. An inlet section followed by a convergent cone.\n",
    "2. A Cylindrical Throat.\n",
    "3. A gradually divergent cone.\n",
    "The inlet section of the Venturimeter is of the same diameter as that of the pipe, which is\n",
    "followed by a convergent cone. The convergent cone is a short pipe, which tapers from the\n",
    "original size of the pipe to that of the Throat of the Venturimeter. The Throat of the Venturimeter\n",
    "is a short parallel side tube having its cross-sectional area smaller than that of the pipe. The\n",
    "divergent cone of the Venturimeter is gradually diverging pipe with its cross-sectional area\n",
    "increasing from that of the Throat to the original size of the pipe. At inlet section &amp; Throat of the\n",
    "Venturimeter, pressure taps are provided.\n",
    "\n",
    "**ORIFICEMETER**:\n",
    "An Orificemeter consists of a flat circular plate with a circular hole called Orifice, which\n",
    "is concentric with the pipe axis.\n",
    "\n",
    "**ROTAMETER**:\n",
    "The Rotameter is a variable – area meter that consists of an enlarging transparent tube\n",
    "and a metering “float” (actually heavier than the liquid) that is displaced upward by the upward\n",
    "flow fluid through the tube. The tube is graduated to read the flow directly. Notches in the float\n",
    "cause it to rotate and thus maintain a central position in the tube."
   ]
  },
  {
   "cell_type": "markdown",
   "metadata": {},
   "source": [
    "### **Procedure**:\n",
    "**Starting Procedure**:\n",
    "1. Close the drain valves in the system.\n",
    "2. Fill sump tank ¾ with clean water and ensure that no foreign particles are there.\n",
    "3. Close all control valves given on the water line and open by-pass valve.\n",
    "4. Close all Pressure Taps of Manometer connected to Venturimeter &amp; Orificemeter.\n",
    "5. Ensure that On/Off Switch given on the Panel is at OFF position.\n",
    "6. Now switch on the main power supply.\n",
    "7. Switch on the pump.\n",
    "8. Operate the control valve to regulate the flow of water in the desired test section.\n",
    "9. Open the pressure taps of manometer of related test section, very slowly to avoid the blow of water on manometer fluid.\n",
    "10. Now open the air release valve provided on the manometer and slowly release the air from manometer.\n",
    "11. When there is no air bubbles in the manometer, close the air release valves.\n",
    "12. Adjust water flow rate in desired section with the help of control valve and record the manometer reading.\n",
    "13. Measure the flow of water, discharged through desired test section, using stopwatch (30 s) and measuring tank.\n",
    "14. Repeat the above procedure for different flow rates of water, operating controlvalve and by-pass valve.\n",
    "\n",
    "**Calibration of Rotameter**:\n",
    "1. Close the ball valves provided in the Venturimeter and Orificemeter pipelines.\n",
    "2. Open the ball valve provided in the Rotameter pipeline.\n",
    "3. Now switch on the main power supply and switch on the pump.\n",
    "4. Set the flow rate with the help of by pass and flow control valves provided in Rotameterpipeline.\n",
    "5. Measure the discharge with the help of measuring tank and stopwatch.\n",
    "6. The actual discharge, verify the set value of rotameter.\n",
    "7. Repeat the same procedure for different flow rates.\n",
    "\n",
    "**Closing Procedure**:\n",
    "1. When the experiment is over, close all manometers pressure taps first and then switch off the pump.\n",
    "2. Switch off power supply to panel.\n",
    "3. Drain all the tanks."
   ]
  },
  {
   "cell_type": "markdown",
   "metadata": {},
   "source": [
    "### **Formula**"
   ]
  },
  {
   "cell_type": "markdown",
   "metadata": {},
   "source": [
    "For both Venturimeter &; Orifice meter:"
   ]
  },
  {
   "cell_type": "markdown",
   "metadata": {},
   "source": [
    "* $Head \\; Losses$,\n",
    "    \n",
    "   $$H=\\frac{h_{1}-h_{2}}{100}\\left(\\frac{\\rho_{m}}{\\rho_{W}}-1\\right),\\; m\\;of\\;water $$ "
   ]
  },
  {
   "cell_type": "markdown",
   "metadata": {},
   "source": [
    "* $Theoritical \\; discharge$ \n",
    "        \n",
    "   $$Q_{t}=\\frac{a_{1}a_{2} \\sqrt{2 g H}}{\\sqrt{a_{1}^{2}-a_{2}^{2}}}\\; , \\;\\; in\\; m^{2}s^{2}$$\n"
   ]
  },
  {
   "cell_type": "markdown",
   "metadata": {},
   "source": [
    "* $Actual \\; discharge$ \n",
    "    \n",
    "$$\n",
    "\\begin{aligned}\n",
    "&Q_{a}=\\frac{A^{*} R}{t} \\mathrm{~m}^{3} / \\mathrm{s} \\\\\n",
    "&\\boldsymbol{R}=\\frac{R_{1}-R_{2}}{100}\n",
    "\\end{aligned}\n",
    "$$"
   ]
  },
  {
   "cell_type": "markdown",
   "metadata": {},
   "source": [
    "* $Coefficient\\; of \\;discharge$\n",
    "    \n",
    "    $$C_{d}=\\frac{Q_{a}}{Q_{t}}$$\n"
   ]
  },
  {
   "cell_type": "markdown",
   "metadata": {},
   "source": [
    "For Rotameter:"
   ]
  },
  {
   "cell_type": "markdown",
   "metadata": {},
   "source": [
    " * $Actual \\;discharge$\n",
    "    \n",
    "    $$\n",
    "\\begin{aligned}\n",
    "&Q_{A}=\\frac{A^{*} R}{t}^{*} 3600^{*} 1000\\;\\; LPH \\\\\n",
    "&R=\\frac{R_{1}-R_{2}}{100} m\n",
    "\\end{aligned}\n",
    "$$"
   ]
  },
  {
   "cell_type": "markdown",
   "metadata": {},
   "source": [
    "### **Observations & Calculations**:"
   ]
  },
  {
   "cell_type": "markdown",
   "metadata": {},
   "source": [
    "#### FOR VENTURIMETER\n",
    "| S.No. |        h_1       cm |        h_2          cm  |       R_1        |       R_2      |   t  |\n",
    "|:-----:|:-------------------:|:-----------------------:|:----------------:|:--------------:|:----:|      \n",
    "|   1   |         10.4        |            14           |        20        |      32.6      |  30  |\n",
    "|   2   |         10.5        |           13.8          |        20        |      32.3      |  30  |\n",
    "|   3   |         11.2        |            13           |        20        |      28.2      |  30  |\n",
    "                     "
   ]
  },
  {
   "cell_type": "markdown",
   "metadata": {},
   "source": [
    "#### FOR ORIFICEMETER\n",
    "| S.No. |        h_1       cm |        h_2          cm  |       R_1        |       R_2      |   t  |\n",
    "|:-----:|:-------------------:|:-----------------------:|:----------------:|:--------------:|:----:|      \n",
    "|   1   |         8.7         |         15.8            |        20        |      31.8      |  30  |\n",
    "|   2   |         9.6         |         14.7            |        20        |      30.5      |  30  |\n",
    "|   3   |         10.2        |         14.1            |        20        |      29.1      |  30  |"
   ]
  },
  {
   "cell_type": "markdown",
   "metadata": {},
   "source": [
    "#### FOR ROTAMETER\n",
    "| S.No. | Q_R  (LPH) |       R_1        |       R_2      |      t        |\n",
    "|:-----:|:----------:|:----------------:|:--------------:|:-------------:|\n",
    "|   1   |     225    |        20        |      21.8      |       30      |\n",
    "|   2   |     200    |        20        |      21.7      |       30      |\n",
    "|   3   |     145    |        20        |      21.2      |       30      |\n",
    "|   4   |     135    |        20        |      21.1      |       30      |\n",
    "|   5   |     95     |        20        |      20.8      |       30      |"
   ]
  },
  {
   "cell_type": "code",
   "execution_count": 1,
   "metadata": {},
   "outputs": [],
   "source": [
    "import numpy as np"
   ]
  },
  {
   "cell_type": "code",
   "execution_count": 2,
   "metadata": {},
   "outputs": [],
   "source": [
    "#common data\n",
    "rho_m = 13600       #manometer fluid\n",
    "rho_w = 1000        #water density \n",
    "g = 9.81            #acceleration due to gravity\n",
    "A = 0.1             #Area of tank"
   ]
  },
  {
   "cell_type": "code",
   "execution_count": 20,
   "metadata": {},
   "outputs": [
    {
     "name": "stdout",
     "output_type": "stream",
     "text": [
      "[0.8857578  0.90311662 0.81521712] [0.00042    0.00041    0.00027333] [0.00047417 0.00045398 0.00033529]\n"
     ]
    }
   ],
   "source": [
    "#VENTURIMETER\n",
    "h1 = np.array([10.4, 10.5, 11.2])\n",
    "h2 = np.array([14,13.8,13])\n",
    "R1 = np.array([20, 20, 20])\n",
    "R2 = np.array([32.6, 32.3, 28.2])\n",
    "t = np.array([30, 30, 30])\n",
    "#DATA FOR VENTURIMETER\n",
    "d1 = 0.028\n",
    "d2 = 0.014\n",
    "a1 = 6.157e-4\n",
    "a2 = 1.539e-4 \n",
    "#calculations\n",
    "R = np.abs(R1 - R2)/100\n",
    "H_vent = (np.abs(h1 - h2))*((rho_m/rho_w) -1)/100               #Head loss\n",
    "Qt_vent = (a1*a2*np.sqrt(2*g*H_vent))/(np.sqrt(a1**2 - a2**2))  #Theoritical discharge\n",
    "Qa_vent = A*R/t                                                 #Actual discharge\n",
    "Cd_vent = Qa_vent/Qt_vent                                       #Co-efficient of discharge\n",
    "print(Cd_vent,Qa_vent,Qt_vent)"
   ]
  },
  {
   "cell_type": "code",
   "execution_count": 21,
   "metadata": {},
   "outputs": [
    {
     "name": "stdout",
     "output_type": "stream",
     "text": [
      "[0.59067491 0.6201545  0.6146173 ] [0.00039333 0.00035    0.00030333] [0.0006659  0.00056438 0.00049353]\n"
     ]
    }
   ],
   "source": [
    "#Orificemeter\n",
    "h1 = np.array([8.7, 9.6, 10.2])\n",
    "h2 = np.array([15.8,14.7,14.1])\n",
    "R1 = np.array([20, 20, 20])\n",
    "R2 = np.array([31.8, 30.5, 29.1])\n",
    "t = np.array([30, 30, 30])\n",
    "#DATA FOR ORIFICEMETER\n",
    "d1 = 0.028\n",
    "d2 = 0.014\n",
    "a1 = 6.157e-4 \n",
    "a2 = 1.539e-4\n",
    "#calculations\n",
    "R = np.abs(R1-R2)/100\n",
    "H_ori = np.abs((h1 - h2))*((rho_m/rho_w) -1)/100              #Head loss\n",
    "Qt_ori = (a1*a2*np.sqrt(2*g*H_ori))/(np.sqrt(a1**2 - a2**2))  #Theoritical discharge\n",
    "Qa_ori = A*R/t                                                #Actual discharge\n",
    "Cd_ori = Qa_ori/Qt_ori                                        #Co-efficient of discharge\n",
    "print(Cd_ori,Qa_ori,Qt_ori)"
   ]
  },
  {
   "cell_type": "code",
   "execution_count": 37,
   "metadata": {},
   "outputs": [
    {
     "name": "stdout",
     "output_type": "stream",
     "text": [
      "[6480. 6120. 4320. 3960. 2880.]\n"
     ]
    }
   ],
   "source": [
    "#ROTAMETER\n",
    "Q_R = np.array([225, 200, 145, 135, 95])\n",
    "R1 = np.array([20, 20, 20, 20, 20])\n",
    "R2 = np.array([21.8, 21.7, 21.2, 21.1, 20.8])\n",
    "t = np.array([30, 30, 30, 30, 30])\n",
    "R = np.abs(R2-R1)/100\n",
    "Qa_rota = A*R*3600*1000                                       #Actual discharge\n",
    "print(Qa_rota)"
   ]
  },
  {
   "cell_type": "markdown",
   "metadata": {},
   "source": [
    "### Calculation Table:"
   ]
  },
  {
   "cell_type": "markdown",
   "metadata": {},
   "source": [
    "**For venturimeter:**"
   ]
  },
  {
   "cell_type": "markdown",
   "metadata": {},
   "source": [
    "| S.No. |  Q_a  (m3/s)   |      Q_t  (m3/s)       |      C_d      |\n",
    "|:-----:|:--------------:|:----------------------:|:-------------:|\n",
    "|   1   |     0.00042    |         0.00047        |    0.88575    |\n",
    "|   2   |     0.00041    |         0.00045        |    0.90311    |\n",
    "|   3   |     0.00027    |         0.00033        |     0.8152    |"
   ]
  },
  {
   "cell_type": "markdown",
   "metadata": {},
   "source": [
    "**For orificemeter:**"
   ]
  },
  {
   "cell_type": "markdown",
   "metadata": {},
   "source": [
    "| S.No. |  Q_a  (m3/s)   |      Q_t  (m3/s)       |      C_d      |\n",
    "|:-----:|:--------------:|:----------------------:|:-------------:|\n",
    "|   1   |    0.000393    |         0.00066        |    0.59067    |\n",
    "|   2   |     0.00035    |        0.000564        |    0.62015    |\n",
    "|   3   |     0.00030    |         0.00049        |    0.61461    |"
   ]
  },
  {
   "cell_type": "markdown",
   "metadata": {},
   "source": [
    "**For rotameter:**"
   ]
  },
  {
   "cell_type": "markdown",
   "metadata": {},
   "source": [
    "| S.No. |  Q_R  (LPH)   |      Q_A  (LPH)        |\n",
    "|:-----:|:-------------:|:----------------------:|\n",
    "|   1   |      225      |          6480          |\n",
    "|   2   |      200      |          6120          |\n",
    "|   3   |      145      |          4320          |\n",
    "|   4   |      135      |          3960          |\n",
    "|   5   |       95      |           20           |"
   ]
  },
  {
   "cell_type": "markdown",
   "metadata": {},
   "source": [
    "### **Conclusions/Inferences**:\n",
    "\n",
    "\n",
    "For the venturi meter, the actual value obtained was closer to the theoritical calculations. This is due to lower pressure drop that results from its streamlined shape which almost eliminates boundary-layer separation and thus form drag is negligible. It has a converging and a diverging part, pressure lost in the converging part is attained back in the diverging part of the meter. This meter is good for measuring high pressure flows and appreciable energy recovery.\n",
    "The head loss is maximum for the orifice meter. To be concluded, venturi meter is more accurate compared to orifice meter and rotameter."
   ]
  },
  {
   "cell_type": "markdown",
   "metadata": {},
   "source": [
    "### **Industrial Applications**:"
   ]
  },
  {
   "cell_type": "markdown",
   "metadata": {},
   "source": [
    "The oil and gas industries and refinery are largely dependent on differential pressure flow meters for their liquid flow measurement applications. The differential pressure flow meters operate by restricting the cross-sectional area of a flowing fluid. A pressure drop is caused across the constriction when the flow area is restricted and this drop in pressure is caused by a change in the velocity of the fluid. A differential pressure flow meter is the best choice at times when no moving parts are required or when prompt response time is needed. These fluid flow meters are found in industrial applications to calculate the fuel output, plain water measurement testing or in specialty chemical manufacturing. They are also used in laboratories for calculation and controlling the flow of gases while separating or mixing them with the help of chromatography. After analyzing the pipe's size, nature of liquids and flow conditions, the users must select the right type. Several types of differential pressure meters are available. These include -\n",
    "\n",
    "1. Flow Tubes\n",
    "2. Orifices\n",
    "3. Venturi Tubes\n",
    "4. Target Meters\n",
    "5. Flow Nozzles\n",
    "6. Elbow-Tap Meters\n",
    "7. Variable-Area Meters\n",
    "8. Rotameters"
   ]
  }
 ],
 "metadata": {
  "kernelspec": {
   "display_name": "Python 3",
   "language": "python",
   "name": "python3"
  },
  "language_info": {
   "codemirror_mode": {
    "name": "ipython",
    "version": 3
   },
   "file_extension": ".py",
   "mimetype": "text/x-python",
   "name": "python",
   "nbconvert_exporter": "python",
   "pygments_lexer": "ipython3",
   "version": "3.8.3"
  }
 },
 "nbformat": 4,
 "nbformat_minor": 4
}
