{
 "cells": [
  {
   "cell_type": "code",
   "execution_count": 141,
   "metadata": {},
   "outputs": [],
   "source": [
    "import numpy as np\n",
    "from matplotlib import pyplot as plt\n",
    "import pandas as pd"
   ]
  },
  {
   "cell_type": "markdown",
   "metadata": {},
   "source": [
    "### Data:"
   ]
  },
  {
   "cell_type": "code",
   "execution_count": 159,
   "metadata": {},
   "outputs": [],
   "source": [
    "emc = 3200\n",
    "A = 0.128\n",
    "omega = 9810\n",
    "eta_motor = 0.8\n",
    "hPG = 1"
   ]
  },
  {
   "cell_type": "code",
   "execution_count": 167,
   "metadata": {},
   "outputs": [],
   "source": [
    "N = np.array([1732,1725,1715,1723,1733,1738])       #RPM\n",
    "Pd = np.array([0,0.05,0.1,0.15,0.25,0.3])           #Discharge pressure  kg/cm2\n",
    "Ps = np.array([140,120,100,90,30,20])               #Suction pressure    mmHg\n",
    "R2 = np.array([46.5,42.5,38.5,36.5,30.5,25.3])      #Final height\n",
    "R1 = np.array([20,20,20,20,20,20])                  #Initial height\n",
    "t = np.array([20,20,20,20,20,20])                   #time (discharge)\n",
    "P = np.array([6,6,6,6,6,6])                         #pulses \n",
    "tp = np.array([21,22,23.1,23.8,25,26.7])            #Time for pulses "
   ]
  },
  {
   "cell_type": "markdown",
   "metadata": {},
   "source": [
    "### Observations:"
   ]
  },
  {
   "cell_type": "code",
   "execution_count": 168,
   "metadata": {},
   "outputs": [
    {
     "name": "stdout",
     "output_type": "stream",
     "text": [
      "      N    Pd   Ps  R1    R2   t  P    tp\n",
      "0  1732  0.00  140  20  46.5  20  6  21.0\n",
      "1  1725  0.05  120  20  42.5  20  6  22.0\n",
      "2  1715  0.10  100  20  38.5  20  6  23.1\n",
      "3  1723  0.15   90  20  36.5  20  6  23.8\n",
      "4  1733  0.25   30  20  30.5  20  6  25.0\n",
      "5  1738  0.30   20  20  25.3  20  6  26.7\n"
     ]
    }
   ],
   "source": [
    "otab = pd.DataFrame({'N':N,'Pd':Pd,'Ps':Ps,'R1':R1,'R2':R2,'t':t,'P':P,'tp':tp})\n",
    "print(otab)"
   ]
  },
  {
   "cell_type": "code",
   "execution_count": 173,
   "metadata": {},
   "outputs": [],
   "source": [
    "Pip = P*3600/(tp*emc)\n",
    "Psh = Pip*eta_motor\n",
    "R = (R2-R1)/100\n",
    "Q = A*R/t\n",
    "H = (10*(Pd + (Ps/760)))+ hPG\n",
    "Pop = omega*Q*H/1000\n",
    "eta_o = (Pop/Pip)*100\n",
    "eta_p = (Pop/Psh)*100"
   ]
  },
  {
   "cell_type": "markdown",
   "metadata": {},
   "source": [
    "### Calculations:"
   ]
  },
  {
   "cell_type": "code",
   "execution_count": 174,
   "metadata": {},
   "outputs": [
    {
     "name": "stdout",
     "output_type": "stream",
     "text": [
      "          Q         H       Pip       Psh       Pop      eta_p      eta_o\n",
      "0  0.001696  2.842105  0.321429  0.257143  0.047286  18.389103  14.711283\n",
      "1  0.001440  3.078947  0.306818  0.245455  0.043494  17.719958  14.175966\n",
      "2  0.001184  3.315789  0.292208  0.233766  0.038513  16.475017  13.180014\n",
      "3  0.001056  3.684211  0.283613  0.226891  0.038166  16.821339  13.457071\n",
      "4  0.000672  3.894737  0.270000  0.216000  0.025675  11.886737   9.509389\n",
      "5  0.000339  4.263158  0.252809  0.202247  0.014186   7.014129   5.611303\n"
     ]
    }
   ],
   "source": [
    "calc = pd.DataFrame({'Q':Q,'H':H,'Pip':Pip,'Psh':Psh,'Pop':Pop,'eta_p':eta_p,'eta_o':eta_o})\n",
    "print(calc)"
   ]
  },
  {
   "cell_type": "markdown",
   "metadata": {},
   "source": [
    "### Graph:"
   ]
  },
  {
   "cell_type": "code",
   "execution_count": 175,
   "metadata": {},
   "outputs": [
    {
     "data": {
      "image/png": "[encoded data removed]",
      "text/plain": [
       "<Figure size 432x288 with 2 Axes>"
      ]
     },
     "metadata": {
      "needs_background": "light"
     },
     "output_type": "display_data"
    }
   ],
   "source": [
    "fig, ax1 = plt.subplots()\n",
    "ax1.set_xlabel('Discharge m3/s')\n",
    "ax1.set_ylabel('Pump Efficiency')\n",
    "ax1.plot(Q,eta_p,'b',label='Efficiency')\n",
    "ax1.legend(loc='center left')\n",
    "plt.grid()\n",
    "\n",
    "ax2 = ax1.twinx()\n",
    "ax2.set_ylabel('Head (m)')\n",
    "ax2.plot(Q,H,'r',label='Head')\n",
    "ax2.legend(loc='center right')\n",
    "plt.show()"
   ]
  },
  {
   "cell_type": "code",
   "execution_count": null,
   "metadata": {},
   "outputs": [],
   "source": []
  }
 ],
 "metadata": {
  "kernelspec": {
   "display_name": "Python 3",
   "language": "python",
   "name": "python3"
  },
  "language_info": {
   "codemirror_mode": {
    "name": "ipython",
    "version": 3
   },
   "file_extension": ".py",
   "mimetype": "text/x-python",
   "name": "python",
   "nbconvert_exporter": "python",
   "pygments_lexer": "ipython3",
   "version": "3.8.3"
  }
 },
 "nbformat": 4,
 "nbformat_minor": 4
}
