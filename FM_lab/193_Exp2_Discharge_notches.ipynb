{
 "cells": [
  {
   "cell_type": "markdown",
   "metadata": {},
   "source": [
    "### <center> EXP 2 DISCHARGE OVER NOTCHES"
   ]
  },
  {
   "cell_type": "markdown",
   "metadata": {},
   "source": [
    "### OBJECTIVE :\n",
    "* To study the discharge over different types of notches.\n"
   ]
  },
  {
   "cell_type": "markdown",
   "metadata": {},
   "source": [
    "### AIM:\n",
    "*\tTo determine the co-efficient of discharge through different type of notches:\n",
    "1) Rectangular Notch\n",
    "2) V-Notch - $45^{\\circ}$ or $60^{\\circ}$\n",
    "*\tPlot Graph between Co-efficient of discharge (Cd) Vs Discharge (Q)\n"
   ]
  },
  {
   "cell_type": "markdown",
   "metadata": {},
   "source": [
    "### INTRODUCTION:\n",
    "A notch is a device used for measuring the rate of a liquid flowing through a small channel or a tank. It may be defined as an opening in the side of a tank or a small channel in such a way that the liquid surface in the tank or channel is below the top edge of the opening. The sheet of water flowing through the notch is called Nappe or Vein. The bottom edge of a notch over which the water flows, is known as the sill or crest.\n"
   ]
  },
  {
   "cell_type": "markdown",
   "metadata": {},
   "source": [
    "### THEORY:\n",
    "1. CO-EFFICIENT OF DISCHARGE:\n",
    "The ratio of actual discharge over a notch to the theoretical discharge is known as co-efficient of discharge.  Mathematically, Co-efficient of discharge:\n",
    "$$ C_{d} = \\frac{Actual Discharge}{Theoritical Discharge}$$\t \t\t\t\n",
    "2. DISCHARGE OVER A RECTANGULAR NOTCH:\n",
    "$$Q = \\frac{2}{3}C_{d}L H^\\frac{3}{2}$$\n",
    "3. DISCHARGE OVER TRIANGULAR NOTCH:\n",
    "$$Q = \\frac{8}{15}C_{d}tan\\frac{\\theta}{2} H^\\frac{5}{2}$$"
   ]
  },
  {
   "cell_type": "markdown",
   "metadata": {},
   "source": [
    "### EXPERIMENTAL PROCEDURE: \n",
    "**Starting Procedure:**\n",
    "1. Clean the apparatus and make all three tanks free from dust. \n",
    "2. Close the drain valves provided. \n",
    "3. Close Flow Control Valve given in water line. \n",
    "4. Open By-Pass Valve. \n",
    "5. Fix desired Notch on the flow channel. \n",
    "6. Fill Sump tank ¾ with clean water and ensure that no foreign particles are there. \n",
    "7. Ensure that all On/Off Switches given on the panel are at OFF position. \n",
    "8. Now switch on the Main Power Supply (220 V AC, 50 Hz). \n",
    "9. Switch on the pump. 10. Allow water to flow through channel by opening flow control valve.\n",
    "11. Close control valve when water coming out through the notch.\n",
    "12. Measure the crest height, i.e., height of water in the channel at no flow condition.\n",
    "13. Regulate Flow of water through channel with the help of given Flow Control Valve.\n",
    "14. Record the height of water level in the channel with the help of pointer Gauge. 15. Measure Flow Rate using Measuring Tank and Stop Watch. \n",
    "**Closing Procedure:**\n",
    "1.  When experiment is over, Switch off pump. \n",
    "2.  Switch off Power Supply to panel. \n",
    "3.  Drain water from all three tanks with the help of given drain valves.\n"
   ]
  },
  {
   "cell_type": "markdown",
   "metadata": {},
   "source": [
    "### FORMULAE:"
   ]
  },
  {
   "cell_type": "markdown",
   "metadata": {},
   "source": [
    "1. Actual discharge,\n",
    "$$\n",
    "Q=\\frac{A^{*} R}{t}\n",
    "$$"
   ]
  },
  {
   "cell_type": "markdown",
   "metadata": {},
   "source": [
    "2. Water head above Crest,\n",
    "$$\n",
    "H=\\frac{\\boldsymbol{h}-\\boldsymbol{h}_{o}}{100} \\mathbf{m}\n",
    "$$"
   ]
  },
  {
   "cell_type": "markdown",
   "metadata": {},
   "source": [
    "3. Discharge over Rectangular Notch,\n",
    "$$\n",
    "\\begin{aligned}\n",
    "&Q=\\frac{2}{3} * C_{d} * L^{*} \\sqrt{2 * g} *[H]^{3 / 2} \\\\\n",
    "&C_{d}=\\frac{3 * Q}{2 * L^{*} \\sqrt{2 * g} *[H]^{3 / 2}}\n",
    "\\end{aligned}\n",
    "$$"
   ]
  },
  {
   "cell_type": "markdown",
   "metadata": {},
   "source": [
    "4. Discharge over Triangular Notch,\n",
    "$$\n",
    "\\begin{aligned}\n",
    "&Q=\\frac{8}{15} * C_{d} * \\tan \\theta / 2 * \\sqrt{2 * g} *[H]^{5 / 2} \\\\\n",
    "&C_{d}=\\frac{15 * Q}{8 * \\tan \\theta / 2 * \\sqrt{2 * g} *[H]^{5 / 2}}\n",
    "\\end{aligned}\n",
    "$$"
   ]
  },
  {
   "cell_type": "code",
   "execution_count": 1,
   "metadata": {},
   "outputs": [],
   "source": [
    "import numpy as np\n",
    "import pandas as pd\n",
    "import matplotlib.pyplot as plt"
   ]
  },
  {
   "cell_type": "markdown",
   "metadata": {},
   "source": [
    "#### Rectangular notch:"
   ]
  },
  {
   "cell_type": "code",
   "execution_count": 2,
   "metadata": {},
   "outputs": [],
   "source": [
    "h0 = 5.7           #crest height in cm\n",
    "L = 0.03;                      #width of the notch\n",
    "h = np.array([6.8,7.4,7.5])    #water head in cm\n",
    "R1 = np.array([10,10,10])      #Initial heights R1 in cm\n",
    "R2 = np.array([12,12.8,13.1])  #Final heights R2 in cm\n",
    "t = np.array([20,20,20])       #Time for R in sec\n",
    "A = 0.1                        #Area of measuring tank\n",
    "g = 9.81\n",
    "obs1 = pd.DataFrame({'h':h,\n",
    "                  'R1':R1,\n",
    "                  'R2':R2,\n",
    "                  'Time for R,t':t})"
   ]
  },
  {
   "cell_type": "markdown",
   "metadata": {},
   "source": [
    "### OBSERVATIONS:\n",
    "(rectangular notch) : "
   ]
  },
  {
   "cell_type": "code",
   "execution_count": 3,
   "metadata": {},
   "outputs": [
    {
     "name": "stdout",
     "output_type": "stream",
     "text": [
      "     h  R1    R2  Time for R,t\n",
      "0  6.8  10  12.0            20\n",
      "1  7.4  10  12.8            20\n",
      "2  7.5  10  13.1            20\n"
     ]
    }
   ],
   "source": [
    "print(obs1)"
   ]
  },
  {
   "cell_type": "code",
   "execution_count": 4,
   "metadata": {},
   "outputs": [],
   "source": [
    "R = (R2-R1)*1e-2      #Rise in water in the tank (m)\n",
    "H = (h-h0)*1e-2       #Rise in water head above crest (m)\n",
    "Q = A*R/t             #Actual discharge m3/s\n",
    "Cd = 3*Q/(2*L*np.sqrt(2*g)*H**1.5)        \n",
    "\n",
    "calc1 = pd.DataFrame({'Head':H,\n",
    "                     'Rise in water':R,\n",
    "                     'Actual Discharge':Q,\n",
    "                     'Cd':Cd})\n"
   ]
  },
  {
   "cell_type": "markdown",
   "metadata": {},
   "source": [
    "### CALCULATIONS:\n",
    "(rectangular notch) : "
   ]
  },
  {
   "cell_type": "code",
   "execution_count": 5,
   "metadata": {},
   "outputs": [
    {
     "name": "stdout",
     "output_type": "stream",
     "text": [
      "    Head  Rise in water  Actual Discharge        Cd\n",
      "0  0.011          0.020          0.000100  0.978434\n",
      "1  0.017          0.028          0.000140  0.712976\n",
      "2  0.018          0.031          0.000155  0.724508\n"
     ]
    }
   ],
   "source": [
    "print(calc1)"
   ]
  },
  {
   "cell_type": "code",
   "execution_count": 6,
   "metadata": {},
   "outputs": [
    {
     "data": {
      "text/plain": [
       "<matplotlib.legend.Legend at 0x7fc7bb58e670>"
      ]
     },
     "execution_count": 6,
     "metadata": {},
     "output_type": "execute_result"
    },
    {
     "data": {
      "image/png": "[encoded data removed]",
      "text/plain": [
       "<Figure size 432x288 with 2 Axes>"
      ]
     },
     "metadata": {
      "needs_background": "light"
     },
     "output_type": "display_data"
    }
   ],
   "source": [
    "fig, ax1 = plt.subplots()\n",
    "ax1.set_xlabel(r'Discharge $m^3/s$')\n",
    "plt.xticks(rotation=45)\n",
    "ax1.set_ylabel(r'Water head (m)')\n",
    "ax1.plot(Q,H,'b',label='Head')\n",
    "ax1.legend(loc=6)\n",
    "plt.grid()\n",
    "ax2 = ax1.twinx()\n",
    "ax2.set_ylabel('Cd')\n",
    "ax2.plot(Q,Cd,'r',label='Cd')\n",
    "ax2.set_ylim([0, 1])\n",
    "ax2.legend(loc=7)"
   ]
  },
  {
   "cell_type": "markdown",
   "metadata": {},
   "source": [
    "#### V-Notch:"
   ]
  },
  {
   "cell_type": "code",
   "execution_count": 7,
   "metadata": {},
   "outputs": [],
   "source": [
    "h0 = 5.5                      #crest height in cm\n",
    "theta = 60                    #Notch angle in degree\n",
    "h = np.array([7.6,8.9,9])          #water head in cm\n",
    "R1 = np.array([10,10,10])          #Initial heights R1 in cm\n",
    "R2 = np.array([11.1,12.4,12.9])    #Final heights R2 in cm\n",
    "t = np.array([20,20,20])            #Time for R in sec\n",
    "obs2 = pd.DataFrame({'h':h,'R1':R1,'R2':R2,'Time':t})"
   ]
  },
  {
   "cell_type": "markdown",
   "metadata": {},
   "source": [
    "### Observations:\n",
    "V-Notch:"
   ]
  },
  {
   "cell_type": "code",
   "execution_count": 8,
   "metadata": {},
   "outputs": [
    {
     "name": "stdout",
     "output_type": "stream",
     "text": [
      "     h  R1    R2  Time\n",
      "0  7.6  10  11.1    20\n",
      "1  8.9  10  12.4    20\n",
      "2  9.0  10  12.9    20\n"
     ]
    }
   ],
   "source": [
    "print(obs2)"
   ]
  },
  {
   "cell_type": "code",
   "execution_count": 9,
   "metadata": {},
   "outputs": [],
   "source": [
    "R = (R2-R1)*1e-2       #Rise in water in the tank (m)\n",
    "H = (h-h0)*1e-2        #Rise in water head above crest (m)\n",
    "Q = A*R/t\n",
    "Cd = 15*Q/(8*np.tan(theta*np.pi/(2*180))*np.sqrt(2*9.8)*H**2.5)\n",
    "calc2 = pd.DataFrame({'H':H,'Water height diff':R,'Q':Q,'Cd':Cd})"
   ]
  },
  {
   "cell_type": "markdown",
   "metadata": {},
   "source": [
    "### Calculations:\n",
    "V-Notch"
   ]
  },
  {
   "cell_type": "code",
   "execution_count": 10,
   "metadata": {},
   "outputs": [
    {
     "name": "stdout",
     "output_type": "stream",
     "text": [
      "       H  Water height diff         Q        Cd\n",
      "0  0.021              0.011  0.000055  0.631318\n",
      "1  0.034              0.024  0.000120  0.412969\n",
      "2  0.035              0.029  0.000145  0.464122\n"
     ]
    }
   ],
   "source": [
    "print(calc2)"
   ]
  },
  {
   "cell_type": "code",
   "execution_count": 11,
   "metadata": {
    "scrolled": true
   },
   "outputs": [
    {
     "data": {
      "text/plain": [
       "<matplotlib.legend.Legend at 0x7fc7b97255e0>"
      ]
     },
     "execution_count": 11,
     "metadata": {},
     "output_type": "execute_result"
    },
    {
     "data": {
      "image/png": "[encoded data removed]",
      "text/plain": [
       "<Figure size 432x288 with 2 Axes>"
      ]
     },
     "metadata": {
      "needs_background": "light"
     },
     "output_type": "display_data"
    }
   ],
   "source": [
    "fig, ax1 = plt.subplots()\n",
    "ax1.set_xlabel(r'Discharge $m^3/s$')\n",
    "plt.xticks(rotation=45)\n",
    "ax1.set_ylabel(r'Water head (m)')\n",
    "ax1.plot(Q,H,'b',label='Head')\n",
    "ax1.legend(loc='lower left')\n",
    "plt.grid()\n",
    "ax2 = ax1.twinx()\n",
    "ax2.set_ylabel('Cd')\n",
    "ax2.plot(Q,Cd,'r',label='Cd')\n",
    "ax2.legend(loc='upper right')\n",
    "ax2.set_ylim([0, 1])\n",
    "ax2.legend(loc=7)"
   ]
  },
  {
   "cell_type": "markdown",
   "metadata": {},
   "source": [
    "### **Conclusions/Inferences**:"
   ]
  },
  {
   "cell_type": "markdown",
   "metadata": {},
   "source": [
    "1. The values of the discharge coefficient increase with increases in the values of the upstream water depth (water head). \n",
    "2. The relationship between the discharge coefficient and the Reynolds number is also a power function, and an increase in the Reynolds number leads to a decreased discharge coefficient.\n",
    "3. The rectangular notch has a greater coefficient of discharge."
   ]
  },
  {
   "cell_type": "markdown",
   "metadata": {},
   "source": [
    "### Industrial Applications:"
   ]
  },
  {
   "cell_type": "markdown",
   "metadata": {},
   "source": [
    "Mill ponds are created by notch impounding water then flows over the structure. Notches are commonly used to control the flow rates of the rivers during periods of high discharge. The applications of notch include tanks, reservoirs, or any water storage devices that have a passage for water escape. Similarly, a weir is a notch on a large scale used to measure flows of rivers and canals. "
   ]
  }
 ],
 "metadata": {
  "kernelspec": {
   "display_name": "Python 3",
   "language": "python",
   "name": "python3"
  },
  "language_info": {
   "codemirror_mode": {
    "name": "ipython",
    "version": 3
   },
   "file_extension": ".py",
   "mimetype": "text/x-python",
   "name": "python",
   "nbconvert_exporter": "python",
   "pygments_lexer": "ipython3",
   "version": "3.8.3"
  }
 },
 "nbformat": 4,
 "nbformat_minor": 4
}
