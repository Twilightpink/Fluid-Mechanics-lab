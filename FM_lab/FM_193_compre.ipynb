{
 "cells": [
  {
   "cell_type": "code",
   "execution_count": 7,
   "metadata": {},
   "outputs": [],
   "source": [
    "import numpy as np"
   ]
  },
  {
   "cell_type": "markdown",
   "metadata": {},
   "source": [
    "Q.4 Calculate the terminal velocity of rain drop with a diameter of 2.5mm? Assume free settling at\n",
    "20 C."
   ]
  },
  {
   "cell_type": "code",
   "execution_count": 2,
   "metadata": {},
   "outputs": [],
   "source": [
    "d = 2.5e-3;   #diameter of rain drop\n",
    "T = 20+273.15;\n",
    "rho_p = 1000; #density of water\n",
    "P = 101325;\n",
    "R = 287.05;\n",
    "rho = P/(R*T); #density of air\n",
    "mu = 1.8e-5; #viscosity of air\n",
    "g = 9.81;\n"
   ]
  },
  {
   "cell_type": "code",
   "execution_count": 5,
   "metadata": {},
   "outputs": [
    {
     "name": "stdout",
     "output_type": "stream",
     "text": [
      "82.86350695929681\n"
     ]
    }
   ],
   "source": [
    "K = d*(g*rho*(rho_p-rho)/mu**2)**(1/3)\n",
    "print(K)"
   ]
  },
  {
   "cell_type": "code",
   "execution_count": 13,
   "metadata": {},
   "outputs": [
    {
     "name": "stdout",
     "output_type": "stream",
     "text": [
      "The terminal velocity of rain drop is 7.893077132934739 m/s\n"
     ]
    }
   ],
   "source": [
    "ut = 1.75*(np.sqrt(g*d*(rho_p-rho)/(rho))) #Newton's regime\n",
    "print(\"The terminal velocity of rain drop is {} m/s\".format(ut))"
   ]
  }
 ],
 "metadata": {
  "kernelspec": {
   "display_name": "Python 3",
   "language": "python",
   "name": "python3"
  },
  "language_info": {
   "codemirror_mode": {
    "name": "ipython",
    "version": 3
   },
   "file_extension": ".py",
   "mimetype": "text/x-python",
   "name": "python",
   "nbconvert_exporter": "python",
   "pygments_lexer": "ipython3",
   "version": "3.8.3"
  }
 },
 "nbformat": 4,
 "nbformat_minor": 4
}
