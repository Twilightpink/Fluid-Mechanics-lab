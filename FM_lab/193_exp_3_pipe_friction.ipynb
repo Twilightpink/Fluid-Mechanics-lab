{
 "cells": [
  {
   "cell_type": "markdown",
   "metadata": {},
   "source": [
    "### <center> Exp 3 DETERMINATION OF LOSS COEFFICIENTS FOR PIPE FITTINGS (MINOR LOSES)"
   ]
  },
  {
   "cell_type": "markdown",
   "metadata": {},
   "source": [
    "### Objective:"
   ]
  },
  {
   "cell_type": "markdown",
   "metadata": {},
   "source": [
    "To study the loss of head in pipe fittings at the various water flow rates."
   ]
  },
  {
   "cell_type": "markdown",
   "metadata": {},
   "source": [
    "### Aim:\n"
   ]
  },
  {
   "cell_type": "markdown",
   "metadata": {},
   "source": [
    "To determine the loss co-efficient for different pipe fittings (expansion, contraction, 45 degree bend and 90 degree bend). Compare your results with theoretical predictions."
   ]
  },
  {
   "attachments": {},
   "cell_type": "markdown",
   "metadata": {},
   "source": [
    "### Theory:\n",
    "When there is any type of bend in pipe, the velocity of flow changes, due to which the separation of the flow from the boundary and also formation of eddies, takes place. Thus the energy is lost. The losses of head due to bend in pipe:\n",
    "$$h_{L}=K_{L} \\frac{V^{2}}{2 g_{c}}$$\n",
    "The minor losses in contraction can be expressed as:\n",
    "$$h_{L}=K_{L} \\frac{V^{2}}{2 g_{c}}$$\n",
    "The minor losses in enlargement can be expressed as:\n",
    "$$h_{L}=K_{L} \\frac{\\left(V_{1}-V_{2}\\right)^{2}}{2 g_{c}}$$\n",
    "Theoretically, the loss coefficients can be estimated as follows\n",
    "Expansion:\n",
    "$$K_{e}=H_{L} \\frac{2 g}{V_{a}^{2}}=\\left(1-\\frac{s_{a}}{s_{b}}\\right)^{2}$$\n",
    "Contraction:\n",
    "$$K_{c}=0.4\\left(1-\\frac{S_{a}}{S_{b}}\\right)$$\n",
    "Here, $S_{a}$is the cross-sectional area of smaller pipe and $S_{b} $is the cross sectional area of the bigger pipe.\n",
    "For 45 degree and 90 degree bends, the loss coefficient is reported to be around 0.2. Compare your results with these theoretical values and comment on it.\n"
   ]
  },
  {
   "attachments": {},
   "cell_type": "markdown",
   "metadata": {},
   "source": [
    "### Procedure:\n",
    "**Starting Procedure:**\n",
    "1. Close the drain valve provided on the sump tank.\n",
    "2. Fill Sump tank ¾ with clean water and ensure that no foreign particles are there.\n",
    "3. Close all Flow Control Valves given on the water line and open by-pass Valve.\n",
    "4. Close all pressure taps of manometer connected to different pipe fittings.\n",
    "5. Ensure that On/Off Switch given on the Panel is at OFF position.\n",
    "6. Fill manometric fluid in the manometer.\n",
    "7. Now switch on the main power supply. \n",
    "8. Switch on the pump.\n",
    "9. Operate valve to regulate the flow of water in the desired Test Section.\n",
    "10.\tOpen the pressure taps of Manometer of related test section, very slowly to avoid the blow of water on manometer fluid.\n",
    "11.\tNow open the air release valve provided on the manometer, slowly to release the air from manometer.\n",
    "12.\tWhen there is no air in the manometer, close the air release valves.\n",
    "13.\tAdjust water flow rate in desired section with the help of control valve.\n",
    "14.\tRecord the manometer reading.\n",
    "15.\tMeasure the flow of water, discharged through desired test section, using stopwatch and measuring tank.\n",
    "16.\tRepeat same procedure for different flow rates of water, operating control valve and by-pass valve.\n",
    "17.\tRepeat same procedure for different test sections.\n",
    "\n",
    "**Closing Procedure:**\n",
    "1.\tWhen experiment is over, close all Manometers Pressure Taps first.\n",
    "2.\tSwitch off pump.\n",
    "3.\tSwitch off power supply to panel.\n",
    "4.\tDrain all the tanks.\n"
   ]
  },
  {
   "cell_type": "markdown",
   "metadata": {},
   "source": [
    "### Formulae:"
   ]
  },
  {
   "cell_type": "markdown",
   "metadata": {},
   "source": [
    "1. Discharge:\n",
    "$$Q=\\left(\\frac{V}{t}\\right)$$\n",
    "$$\\mathrm{R}=(\\mathrm{R} 1-\\mathrm{R} 2) / 1000 \\mathrm{~m}^{3}$$"
   ]
  },
  {
   "cell_type": "markdown",
   "metadata": {},
   "source": [
    "2. Velocity:\n",
    "$$V_{a}=\\frac{Q}{s_{a}}$$"
   ]
  },
  {
   "cell_type": "markdown",
   "metadata": {},
   "source": [
    "3. Loss of head\n",
    "$$\\mathbf{H}_{\\mathbf{L}}=\\frac{h_{L}}{\\mathbf{1 0 0}}\\left(\\frac{\\rho_{m}}{\\rho_{w}}-\\mathbf{1}\\right)$$ m of water"
   ]
  },
  {
   "cell_type": "markdown",
   "metadata": {},
   "source": [
    "4. Loss Coefficient (for Contraction):\n",
    "$$K_{c}=H_{L} \\frac{2 g}{V_{a}^{2}}=0.4\\left(1-\\frac{S_{a}}{S_{b}}\\right)$$"
   ]
  },
  {
   "attachments": {},
   "cell_type": "markdown",
   "metadata": {},
   "source": [
    "5. Loss Coefficient (for Expansion):\n",
    "$$K_{e}=H_{L} \\frac{2 g}{V_{a}^{2}}=\\left(1-\\frac{s_{a}}{s_{b}}\\right)^{2}$$"
   ]
  },
  {
   "cell_type": "markdown",
   "metadata": {},
   "source": [
    "6. Loss Co-efficient for pipe fittings:\n",
    "$$K_{f}=H_{L} \\frac{2 g}{V^{2}}$$"
   ]
  },
  {
   "cell_type": "markdown",
   "metadata": {},
   "source": [
    "### Observations:"
   ]
  },
  {
   "cell_type": "code",
   "execution_count": 1,
   "metadata": {},
   "outputs": [],
   "source": [
    "import numpy as np\n",
    "import pandas as pd\n",
    "import matplotlib.pyplot as plt"
   ]
  },
  {
   "cell_type": "markdown",
   "metadata": {},
   "source": [
    "#### Contraction"
   ]
  },
  {
   "cell_type": "code",
   "execution_count": 2,
   "metadata": {},
   "outputs": [],
   "source": [
    "R = np.array([2,2,2,2])                 #Rise in water level in hydraulic bench (L)\n",
    "t = np.array([18.81,20.28,24.75,33.03]) #Time (sec) required for the rise in level\n",
    "h = np.array([6.1,4.8,2.9,1.8])         #manometer level difference (cm)"
   ]
  },
  {
   "cell_type": "code",
   "execution_count": 3,
   "metadata": {},
   "outputs": [
    {
     "name": "stdout",
     "output_type": "stream",
     "text": [
      "   R(L)  Time(sec)  h(cm of Hg)\n",
      "0     2      18.81          6.1\n",
      "1     2      20.28          4.8\n",
      "2     2      24.75          2.9\n",
      "3     2      33.03          1.8\n"
     ]
    }
   ],
   "source": [
    "obs_c = pd.DataFrame({'R(L)':R,'Time(sec)':t,'h(cm of Hg)':h})\n",
    "print(obs)"
   ]
  },
  {
   "cell_type": "code",
   "execution_count": 5,
   "metadata": {},
   "outputs": [],
   "source": [
    "D1 = 8e-3           #Diameter of the smaller pipe (m)\n",
    "S1 = np.pi*D1**2/4\n",
    "D2 = 17e-3          #Diameter of the bigger pipe (m) To be rechecked\n",
    "S2 = np.pi*D2**2/4\n",
    "Q = R*1e-3/t\n",
    "V = Q/S1\n",
    "H = h*12.6/100\n",
    "Kc = H*2*9.8/V**2\n",
    "Kct = np.ones(Kc.shape)*0.4*(1-S1/S2)"
   ]
  },
  {
   "cell_type": "code",
   "execution_count": 6,
   "metadata": {},
   "outputs": [
    {
     "name": "stdout",
     "output_type": "stream",
     "text": [
      "    Q(m3/s)    V(m/s)   HL(m)        Kc\n",
      "0  0.000106  2.115297  0.7686  3.366772\n",
      "1  0.000099  1.961969  0.6048  3.079523\n",
      "2  0.000081  1.607626  0.3654  2.771116\n",
      "3  0.000061  1.204624  0.2268  3.063346\n"
     ]
    }
   ],
   "source": [
    "calc_c = pd.DataFrame({'Q(m3/s)':Q,'V(m/s)':V,'HL(m)':H,'Kc':Kc})\n",
    "print (calc_c)"
   ]
  },
  {
   "cell_type": "code",
   "execution_count": 7,
   "metadata": {},
   "outputs": [
    {
     "data": {
      "image/png": "[encoded data removed]",
      "text/plain": [
       "<Figure size 432x288 with 1 Axes>"
      ]
     },
     "metadata": {
      "needs_background": "light"
     },
     "output_type": "display_data"
    }
   ],
   "source": [
    "plt.figure()\n",
    "plt.plot(Q,Kc,'r',label='Actual')\n",
    "plt.plot(Q,Kct,'b',label='Theory')\n",
    "plt.xlabel(r'Flow rate $m^3/s$')\n",
    "plt.xticks(rotation=45)\n",
    "plt.ylabel('Friction coefficient (Kc)')\n",
    "#plt.ylim([0,0.8])\n",
    "plt.legend()\n",
    "plt.grid()"
   ]
  },
  {
   "cell_type": "markdown",
   "metadata": {},
   "source": [
    "#### Expansion"
   ]
  },
  {
   "cell_type": "code",
   "execution_count": 8,
   "metadata": {},
   "outputs": [],
   "source": [
    "R = np.array([2,2,2,2])              #Rise in water level in hydraulic bench (L)\n",
    "t = np.array([6.19,6.22,8.07,9.03])  #Time (sec) required for the rise in level\n",
    "h = np.array([2.9,2.4,1.5,1.3])      #manometer level difference (cm)"
   ]
  },
  {
   "cell_type": "code",
   "execution_count": 9,
   "metadata": {},
   "outputs": [
    {
     "name": "stdout",
     "output_type": "stream",
     "text": [
      "   R(L)  Time(sec)  h(cm of Hg)\n",
      "0     2       6.19          2.9\n",
      "1     2       6.22          2.4\n",
      "2     2       8.07          1.5\n",
      "3     2       9.03          1.3\n"
     ]
    }
   ],
   "source": [
    "obs_e = pd.DataFrame({'R(L)':R,'Time(sec)':t,'h(cm of Hg)':h})\n",
    "print (obs_e)"
   ]
  },
  {
   "cell_type": "code",
   "execution_count": 10,
   "metadata": {},
   "outputs": [],
   "source": [
    "D1 = 8e-3          #Diameter of the smaller pipe (m)\n",
    "S1 = np.pi*D1**2/4\n",
    "D2 = 17e-3        #Diameter of the bigger pipe (m) To be rechecked\n",
    "S2 = np.pi*D2**2/4\n",
    "Q = R*1e-3/t\n",
    "V = Q/S1\n",
    "H = h*12.6/100\n",
    "Ke = H*2*9.8/V**2\n",
    "Ket = np.ones(Ke.shape)*(1-S1/S2)**2"
   ]
  },
  {
   "cell_type": "code",
   "execution_count": 11,
   "metadata": {},
   "outputs": [
    {
     "name": "stdout",
     "output_type": "stream",
     "text": [
      "    Q(m3/s)    V(m/s)   HL(m)        Ke\n",
      "0  0.000323  6.427906  0.3654  0.173335\n",
      "1  0.000322  6.396903  0.3024  0.144843\n",
      "2  0.000248  4.930451  0.1890  0.152386\n",
      "3  0.000221  4.406283  0.1638  0.165358\n"
     ]
    }
   ],
   "source": [
    "calc_e = pd.DataFrame({'Q(m3/s)':Q,'V(m/s)':V,'HL(m)':H,'Ke':Ke})\n",
    "print (calc_e)"
   ]
  },
  {
   "cell_type": "code",
   "execution_count": 12,
   "metadata": {},
   "outputs": [
    {
     "data": {
      "image/png": "[encoded data removed]",
      "text/plain": [
       "<Figure size 432x288 with 1 Axes>"
      ]
     },
     "metadata": {
      "needs_background": "light"
     },
     "output_type": "display_data"
    }
   ],
   "source": [
    "plt.figure()\n",
    "plt.plot(Q,Ke,'r',label='Actual')\n",
    "plt.plot(Q,Ket,'b',label='Theory')\n",
    "plt.xlabel(r'Flow rate $m^3/s$')\n",
    "plt.xticks(rotation=45)\n",
    "plt.ylabel('Friction coefficient (Ke)')\n",
    "plt.ylim([0,0.8])\n",
    "plt.legend()\n",
    "plt.grid()"
   ]
  },
  {
   "cell_type": "markdown",
   "metadata": {},
   "source": [
    "#### 45 degree bend"
   ]
  },
  {
   "cell_type": "code",
   "execution_count": 13,
   "metadata": {},
   "outputs": [],
   "source": [
    "R = np.array([2,2,2,2])            #Rise in water level in hydraulic bench (L)\n",
    "t = np.array([4.44,6.9,9,16.09])   #Time (sec) required for the rise in level\n",
    "h = np.array([0.8,0.3,0.2,0.1])    #manometer level difference (cm)"
   ]
  },
  {
   "cell_type": "code",
   "execution_count": 14,
   "metadata": {},
   "outputs": [
    {
     "name": "stdout",
     "output_type": "stream",
     "text": [
      "   R(L)  Time(sec)  h(cm of Hg)\n",
      "0     2       4.44          0.8\n",
      "1     2       6.90          0.3\n",
      "2     2       9.00          0.2\n",
      "3     2      16.09          0.1\n"
     ]
    }
   ],
   "source": [
    "obs_45 = pd.DataFrame({'R(L)':R,'Time(sec)':t,'h(cm of Hg)':h})\n",
    "print (obs_45)"
   ]
  },
  {
   "cell_type": "code",
   "execution_count": 16,
   "metadata": {},
   "outputs": [],
   "source": [
    "D2 = 17e-3 #Diameter of the bigger pipe (m) To be rechecked\n",
    "S2 = np.pi*D2**2/4\n",
    "Q = R*1e-3/t\n",
    "V = Q/S2\n",
    "H = h*12.6/100\n",
    "Kf = H*2*9.8/V**2"
   ]
  },
  {
   "cell_type": "code",
   "execution_count": 17,
   "metadata": {},
   "outputs": [
    {
     "name": "stdout",
     "output_type": "stream",
     "text": [
      "    Q(m3/s)    V(m/s)   HL(m)        Kf\n",
      "0  0.000450  1.984537  0.1008  0.501647\n",
      "1  0.000290  1.277007  0.0378  0.454320\n",
      "2  0.000222  0.979038  0.0252  0.515296\n",
      "3  0.000124  0.547629  0.0126  0.823482\n"
     ]
    }
   ],
   "source": [
    "calc_45 = pd.DataFrame({'Q(m3/s)':Q,'V(m/s)':V,'HL(m)':H,'Kf':Kf})\n",
    "print (calc_45)"
   ]
  },
  {
   "cell_type": "code",
   "execution_count": 18,
   "metadata": {},
   "outputs": [
    {
     "data": {
      "image/png": "[encoded data removed]",
      "text/plain": [
       "<Figure size 432x288 with 1 Axes>"
      ]
     },
     "metadata": {
      "needs_background": "light"
     },
     "output_type": "display_data"
    }
   ],
   "source": [
    "plt.figure()\n",
    "plt.plot(Q,Kf,'r',label='Actual')\n",
    "plt.xlabel(r'Flow rate $m^3/s$')\n",
    "plt.xticks(rotation=45)\n",
    "plt.ylabel('Expansion coefficient (Ke)')\n",
    "plt.legend()\n",
    "plt.grid()"
   ]
  },
  {
   "cell_type": "markdown",
   "metadata": {},
   "source": [
    "#### 90 degree bend"
   ]
  },
  {
   "cell_type": "code",
   "execution_count": 19,
   "metadata": {},
   "outputs": [],
   "source": [
    "R = np.array([2,2,2,2])         #Rise in water level in hydraulic bench (L)\n",
    "t = np.array([4.5,5.34,8,10.5])        #Time (sec) required for the rise in level\n",
    "h = np.array([1.9,1.3,0.6,0.3]) #manometer level difference (cm)"
   ]
  },
  {
   "cell_type": "code",
   "execution_count": 20,
   "metadata": {},
   "outputs": [
    {
     "name": "stdout",
     "output_type": "stream",
     "text": [
      "   R(L)  Time(sec)  h(cm of Hg)\n",
      "0     2       4.50          1.9\n",
      "1     2       5.34          1.3\n",
      "2     2       8.00          0.6\n",
      "3     2      10.50          0.3\n"
     ]
    }
   ],
   "source": [
    "obs_90 = pd.DataFrame({'R(L)':R,'Time(sec)':t,'h(cm of Hg)':h})\n",
    "print (obs_90)"
   ]
  },
  {
   "cell_type": "code",
   "execution_count": 21,
   "metadata": {},
   "outputs": [],
   "source": [
    "D2 = 17e-3          #Diameter of the bigger pipe (m) To be rechecked\n",
    "S2 = np.pi*D2**2/4\n",
    "Q = R*1e-3/t\n",
    "V = Q/S2\n",
    "H = h*12.6/100\n",
    "Kf = H*2*9.8/V**2"
   ]
  },
  {
   "cell_type": "code",
   "execution_count": 22,
   "metadata": {},
   "outputs": [
    {
     "name": "stdout",
     "output_type": "stream",
     "text": [
      "    Q(m3/s)    V(m/s)   HL(m)        Kf\n",
      "0  0.000444  1.958077  0.2394  1.223829\n",
      "1  0.000375  1.650065  0.1638  1.179147\n",
      "2  0.000250  1.101418  0.0756  1.221443\n",
      "3  0.000190  0.839176  0.0378  1.052063\n"
     ]
    }
   ],
   "source": [
    "calc_90 = pd.DataFrame({'Q(m3/s)':Q,'V(m/s)':V,'HL(m)':H,'Kf':Kf})\n",
    "print (calc_90)"
   ]
  },
  {
   "cell_type": "code",
   "execution_count": 23,
   "metadata": {},
   "outputs": [
    {
     "data": {
      "image/png": "[encoded data removed]",
      "text/plain": [
       "<Figure size 432x288 with 1 Axes>"
      ]
     },
     "metadata": {
      "needs_background": "light"
     },
     "output_type": "display_data"
    }
   ],
   "source": [
    "plt.figure()\n",
    "plt.plot(Q,Kf,'r',label='Actual')\n",
    "plt.xlabel(r'Flow rate $m^3/s$')\n",
    "plt.xticks(rotation=45)\n",
    "plt.ylabel('Friction coefficient (Kf)')\n",
    "plt.legend()\n",
    "plt.grid()"
   ]
  },
  {
   "cell_type": "markdown",
   "metadata": {},
   "source": [
    "### Conclusions/Inferences:\n"
   ]
  },
  {
   "cell_type": "markdown",
   "metadata": {},
   "source": [
    "1. The loss coefficients for the above cases have been determined. \n",
    "2. To decrease the minor loss coefficient, and in turn the head loss, avoid sharp turns must be avoided and constricting the flow of a liquid with a contraction of the pipe. \n",
    "3. Analyzing the graphs plotted, we can see that the head loss in 90 degrees bend is higher than the 45 degrees bend, whereas the head loss in sudden expansion in the pipe diameter is higher than for sudden contraction in pipe."
   ]
  },
  {
   "cell_type": "markdown",
   "metadata": {},
   "source": [
    "### Industrial Applications:"
   ]
  },
  {
   "cell_type": "markdown",
   "metadata": {},
   "source": [
    "In a pipe system with many fittings and valves, the minor losses can be greater than the major (friction) losses. Thus, an accurate K value for all fittings and valves in a pipe system is necessary to predict the actual head loss across the pipe system. K values assist engineers in totaling all of the minor losses by multiplying the sum of the K values by the velocity head to quickly determine the total head loss due to all fittings.  Knowing the K value for each fitting enables engineers to use the proper fitting when designing an efficient piping system that can minimize the head loss and maximize the flow rate."
   ]
  }
 ],
 "metadata": {
  "kernelspec": {
   "display_name": "Python 3",
   "language": "python",
   "name": "python3"
  },
  "language_info": {
   "codemirror_mode": {
    "name": "ipython",
    "version": 3
   },
   "file_extension": ".py",
   "mimetype": "text/x-python",
   "name": "python",
   "nbconvert_exporter": "python",
   "pygments_lexer": "ipython3",
   "version": "3.8.3"
  }
 },
 "nbformat": 4,
 "nbformat_minor": 4
}
